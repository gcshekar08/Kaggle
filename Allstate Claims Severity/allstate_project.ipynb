{
 "cells": [
  {
   "cell_type": "markdown",
   "metadata": {},
   "source": [
    "# Allstate Claims Severity"
   ]
  },
  {
   "cell_type": "markdown",
   "metadata": {},
   "source": [
    "**Project Overview**"
   ]
  },
  {
   "cell_type": "markdown",
   "metadata": {},
   "source": [
    "Allstate is currently developing automated methods of predicting the cost, and hence severity, of claims. In this recruitment challenge, Kagglers are invited to show off their creativity and flex their technical chops by creating an algorithm which accurately predicts claims severity. Aspiring competitors will demonstrate insight into better ways to predict claims severity for the chance to be part of Allstate's efforts to ensure a worry-free customer experience.\n",
    "\n",
    "In this project, we will build a model to predict the cost."
   ]
  },
  {
   "cell_type": "markdown",
   "metadata": {},
   "source": [
    "**Problem Statement**"
   ]
  },
  {
   "cell_type": "markdown",
   "metadata": {},
   "source": [
    "The dataset used in this project is train.csv for training and test.csv for testing the trained model which is downloaded from the link (https://www.kaggle.com/c/allstate-claims-severity/data) unzip the file to get datasets. \n",
    "\n",
    "This dataset has the following attributes:\n",
    "\n",
    "Each row in this dataset represents an insurance claim. You must predict the value for the 'loss' column. Variables prefaced with 'cat' are categorical, while those prefaced with 'cont' are continuous.\n",
    "\n",
    "Learning: We need to predict the 'loss' based on the other attributes. Hence, this is a regression problem."
   ]
  },
  {
   "cell_type": "markdown",
   "metadata": {},
   "source": [
    "**Data Exploration**"
   ]
  },
  {
   "cell_type": "code",
   "execution_count": 15,
   "metadata": {},
   "outputs": [
    {
     "name": "stdout",
     "output_type": "stream",
     "text": [
      "(188318, 130),(125546, 130)\n",
      "                cat1           cat2           cat3           cat4  \\\n",
      "count  313864.000000  313864.000000  313864.000000  313864.000000   \n",
      "mean        0.249210       0.433118       0.054543       0.316835   \n",
      "std         0.432556       0.495507       0.227086       0.465243   \n",
      "min         0.000000       0.000000       0.000000       0.000000   \n",
      "25%         0.000000       0.000000       0.000000       0.000000   \n",
      "50%         0.000000       0.000000       0.000000       0.000000   \n",
      "75%         0.000000       1.000000       0.000000       1.000000   \n",
      "max         1.000000       1.000000       1.000000       1.000000   \n",
      "\n",
      "                cat5           cat6           cat7           cat8  \\\n",
      "count  313864.000000  313864.000000  313864.000000  313864.000000   \n",
      "mean        0.343604       0.299993       0.024131       0.058873   \n",
      "std         0.474912       0.458255       0.153458       0.235387   \n",
      "min         0.000000       0.000000       0.000000       0.000000   \n",
      "25%         0.000000       0.000000       0.000000       0.000000   \n",
      "50%         0.000000       0.000000       0.000000       0.000000   \n",
      "75%         1.000000       1.000000       0.000000       0.000000   \n",
      "max         1.000000       1.000000       1.000000       1.000000   \n",
      "\n",
      "                cat9          cat10      ...                cont5  \\\n",
      "count  313864.000000  313864.000000      ...        313864.000000   \n",
      "mean        0.399004       0.148813      ...             0.487513   \n",
      "std         0.489694       0.355904      ...             0.209063   \n",
      "min         0.000000       0.000000      ...             0.281143   \n",
      "25%         0.000000       0.000000      ...             0.281143   \n",
      "50%         0.000000       0.000000      ...             0.422268   \n",
      "75%         1.000000       0.000000      ...             0.643315   \n",
      "max         1.000000       1.000000      ...             0.983674   \n",
      "\n",
      "               cont6          cont7          cont8         cont9  \\\n",
      "count  313864.000000  313864.000000  313864.000000  313864.00000   \n",
      "mean        0.491442       0.485360       0.486823       0.48571   \n",
      "std         0.205394       0.178531       0.199442       0.18185   \n",
      "min         0.012683       0.069503       0.236880       0.00008   \n",
      "25%         0.336105       0.351299       0.317960       0.35897   \n",
      "50%         0.440945       0.438650       0.441060       0.44145   \n",
      "75%         0.655818       0.591165       0.623580       0.56889   \n",
      "max         0.997162       1.000000       0.982800       0.99540   \n",
      "\n",
      "              cont10         cont11         cont12         cont13  \\\n",
      "count  313864.000000  313864.000000  313864.000000  313864.000000   \n",
      "mean        0.498403       0.493850       0.493503       0.493917   \n",
      "std         0.185906       0.210002       0.209716       0.212911   \n",
      "min         0.000000       0.035321       0.036232       0.000228   \n",
      "25%         0.364580       0.310961       0.314945       0.315758   \n",
      "50%         0.461190       0.457203       0.462286       0.363547   \n",
      "75%         0.619840       0.678924       0.679096       0.689974   \n",
      "max         0.994980       0.998742       0.998484       0.988494   \n",
      "\n",
      "              cont14  \n",
      "count  313864.000000  \n",
      "mean        0.495665  \n",
      "std         0.222537  \n",
      "min         0.178568  \n",
      "25%         0.294657  \n",
      "50%         0.407020  \n",
      "75%         0.724707  \n",
      "max         0.844848  \n",
      "\n",
      "[8 rows x 130 columns]\n"
     ]
    }
   ],
   "source": [
    "import pandas as pd\n",
    "import numpy as np\n",
    "import xgboost as xgb\n",
    "from sklearn.metrics import mean_absolute_error\n",
    "import matplotlib.pyplot as plt\n",
    "\n",
    "\n",
    "ID = 'id'\n",
    "TARGET = 'loss'\n",
    "SEED = 0\n",
    "\n",
    "\n",
    "train = pd.read_csv('train.csv')\n",
    "test = pd.read_csv('test.csv')\n",
    "\n",
    "y_train = np.log(train[TARGET].ravel())\n",
    "\n",
    "\n",
    "train.drop([ID, TARGET], axis=1, inplace=True)\n",
    "test.drop([ID], axis=1, inplace=True)\n",
    "\n",
    "print(\"{},{}\".format(train.shape, test.shape))\n",
    "\n",
    "ntrain = train.shape[0]\n",
    "train_test = pd.concat((train, test)).reset_index(drop=True)\n",
    "\n",
    "features = train.columns\n",
    "\n",
    "cats = [feat for feat in features if 'cat' in feat]\n",
    "for feat in cats:\n",
    "    train_test[feat] = pd.factorize(train_test[feat], sort=True)[0]\n",
    "\n",
    "print(train_test.describe())"
   ]
  },
  {
   "cell_type": "code",
   "execution_count": 16,
   "metadata": {},
   "outputs": [
    {
     "name": "stdout",
     "output_type": "stream",
     "text": [
      "(188318, 130),(125546, 130)\n"
     ]
    },
    {
     "data": {
      "image/png": "[encoded data removed]",
      "text/plain": [
       "<Figure size 432x288 with 1 Axes>"
      ]
     },
     "metadata": {},
     "output_type": "display_data"
    },
    {
     "name": "stdout",
     "output_type": "stream",
     "text": [
      "CV-Mean: 566.5095791+566.1234618460734\n"
     ]
    }
   ],
   "source": [
    "x_train = np.array(train_test.iloc[:ntrain,:])\n",
    "x_test = np.array(train_test.iloc[ntrain:,:])\n",
    "\n",
    "print(\"{},{}\".format(train.shape, test.shape))\n",
    "\n",
    "dtrain = xgb.DMatrix(x_train, label=y_train)\n",
    "dtest = xgb.DMatrix(x_test)\n",
    "\n",
    "xgb_params = {\n",
    "            'seed': 0,\n",
    "    'colsample_bytree': 0.5,'gamma':1.7,\n",
    "    'silent': 1,\n",
    "    'subsample': 0.9,\n",
    "    'learning_rate': 0.009,\n",
    "    'objective': 'reg:linear',\n",
    "    'max_depth': 23,\n",
    "    'num_parallel_tree': 1,\n",
    "    'min_child_weight': 8,\n",
    "    'eval_metric': 'mae',\n",
    "    'alpha': 5, 'lambda': 55,'random_state':1001\n",
    "            \n",
    "}\n",
    "\n",
    "def xg_eval_mae(yhat, dtrain):\n",
    "    y = dtrain.get_label()\n",
    "    return 'mae', mean_absolute_error(np.exp(y), np.exp(yhat))\n",
    "\n",
    "res = xgb.cv(xgb_params, dtrain, num_boost_round=15250, nfold=5, seed=SEED, stratified=False,\n",
    "             early_stopping_rounds=75, verbose_eval=False, show_stdv=False, feval=xg_eval_mae, maximize=False)\n",
    "\n",
    "res.plot(y=['test-mae-mean', 'train-mae-mean'], grid=True, logx=True)\n",
    "plt.xlabel('Round')\n",
    "plt.ylabel('mae')\n",
    "plt.show()\n",
    "\n",
    "best_nrounds = res.shape[0] - 1\n",
    "cv_mean = res.iloc[-1, 0]\n",
    "cv_std = res.iloc[-1, 1]\n",
    "print('CV-Mean: {0}+{1}'.format(cv_mean, cv_std))\n",
    "\n",
    "gbdt = xgb.train(xgb_params, dtrain, best_nrounds)\n",
    "\n",
    "submission = pd.read_csv('sample_submission.csv')\n",
    "submission.iloc[:, 1] = np.exp(gbdt.predict(dtest))\n",
    "\n",
    "submission.to_csv('xgb_starter_v2.sub.csv', index=None)"
   ]
  },
  {
   "cell_type": "markdown",
   "metadata": {},
   "source": [
    "**Conclusion**"
   ]
  },
  {
   "cell_type": "markdown",
   "metadata": {},
   "source": [
    "The xgboost regression model is used for predicting the cost with learning rate 0.009 and evaluated using Mean Absolute Error metrics. Trained model was tested and saved as xgb_starter_v2.csv for evaluation in kaggle leaderboard. The score achieved by my model is 1121.74987."
   ]
  }
 ],
 "metadata": {
  "kernelspec": {
   "display_name": "Python 3",
   "language": "python",
   "name": "python3"
  },
  "language_info": {
   "codemirror_mode": {
    "name": "ipython",
    "version": 3
   },
   "file_extension": ".py",
   "mimetype": "text/x-python",
   "name": "python",
   "nbconvert_exporter": "python",
   "pygments_lexer": "ipython3",
   "version": "3.5.5"
  }
 },
 "nbformat": 4,
 "nbformat_minor": 2
}
